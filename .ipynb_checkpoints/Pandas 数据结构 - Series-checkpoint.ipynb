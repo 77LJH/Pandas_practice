{
 "cells": [
  {
   "cell_type": "markdown",
   "id": "6c836e84",
   "metadata": {},
   "source": [
    "Pandas Series 类似表格中的一个列（column），类似于一维数组，可以保存任何数据类型。\n",
    "\n",
    "Series 由索引（index）和列组成，函数如下：\n",
    "\n",
    "pandas.Series( data, index, dtype, name, copy)\n",
    "\n",
    "参数说明：\n",
    "\n",
    "data：一组数据(ndarray 类型)。\n",
    "\n",
    "index：数据索引标签，如果不指定，默认从 0 开始。\n",
    "\n",
    "dtype：数据类型，默认会自己判断。\n",
    "\n",
    "name：设置名称。\n",
    "\n",
    "copy：拷贝数据，默认为 False。"
   ]
  },
  {
   "cell_type": "code",
   "execution_count": 2,
   "id": "9f40c185",
   "metadata": {},
   "outputs": [
    {
     "name": "stdout",
     "output_type": "stream",
     "text": [
      "0    1\n",
      "1    2\n",
      "2    3\n",
      "dtype: int64\n"
     ]
    }
   ],
   "source": [
    "import pandas as pd\n",
    "\n",
    "a=[1,2,3]\n",
    "\n",
    "myvar=pd.Series(a)\n",
    "\n",
    "print(myvar)"
   ]
  },
  {
   "cell_type": "markdown",
   "id": "4edbd8f1",
   "metadata": {},
   "source": [
    "我们可以指定索引值，如下实例："
   ]
  },
  {
   "cell_type": "code",
   "execution_count": 4,
   "id": "51a3c814",
   "metadata": {},
   "outputs": [
    {
     "name": "stdout",
     "output_type": "stream",
     "text": [
      "x    Google\n",
      "y    Runoob\n",
      "z      Wiki\n",
      "dtype: object\n",
      "Runoob\n"
     ]
    }
   ],
   "source": [
    "import pandas as pd\n",
    "\n",
    "a=[\"Google\", \"Runoob\", \"Wiki\"]\n",
    "\n",
    "myvar=pd.Series(a,index=[\"x\",\"y\",\"z\"])\n",
    "\n",
    "print(myvar)\n",
    "print(myvar[\"y\"])"
   ]
  },
  {
   "cell_type": "markdown",
   "id": "d413095e",
   "metadata": {},
   "source": [
    "我们也可以使用 key/value 对象，类似字典来创建 Series："
   ]
  },
  {
   "cell_type": "code",
   "execution_count": 6,
   "id": "d82f441a",
   "metadata": {},
   "outputs": [
    {
     "name": "stdout",
     "output_type": "stream",
     "text": [
      "1    Google\n",
      "2    Runoob\n",
      "3      Wiki\n",
      "dtype: object\n"
     ]
    }
   ],
   "source": [
    "import pandas as pd\n",
    "\n",
    "\n",
    "sites={1:\"Google\",2:\"Runoob\",3:\"Wiki\"}\n",
    "\n",
    "myvar=pd.Series(sites)\n",
    "\n",
    "print(myvar)"
   ]
  },
  {
   "cell_type": "markdown",
   "id": "0f821d7f",
   "metadata": {},
   "source": [
    "从上图可知，字典的 key 变成了索引值。\n",
    "\n",
    "如果我们只需要字典中的一部分数据，只需要指定需要数据的索引即可，如下实例："
   ]
  },
  {
   "cell_type": "code",
   "execution_count": 7,
   "id": "ecc3821c",
   "metadata": {},
   "outputs": [
    {
     "name": "stdout",
     "output_type": "stream",
     "text": [
      "1    Google\n",
      "2    Runoob\n",
      "dtype: object\n"
     ]
    }
   ],
   "source": [
    "import pandas as pd\n",
    "sites={1:\"Google\",2:\"Runoob\",3:\"Wiki\"}\n",
    "\n",
    "myvar=pd.Series(sites,index=[1,2])\n",
    "print(myvar)"
   ]
  },
  {
   "cell_type": "markdown",
   "id": "3a5a094d",
   "metadata": {},
   "source": [
    "设置 Series 名称参数："
   ]
  },
  {
   "cell_type": "code",
   "execution_count": 8,
   "id": "ca818483",
   "metadata": {},
   "outputs": [
    {
     "name": "stdout",
     "output_type": "stream",
     "text": [
      "1    Google\n",
      "2    Runoob\n",
      "Name: RUNOOB-Series-TEST, dtype: object\n"
     ]
    }
   ],
   "source": [
    "import pandas as pd\n",
    "\n",
    "sites={1:\"Google\",2:\"Runoob\",3:\"Wiki\"}\n",
    "\n",
    "myvar=pd.Series(sites,index=[1,2],name=\"RUNOOB-Series-TEST\")\n",
    "\n",
    "print(myvar)"
   ]
  },
  {
   "cell_type": "code",
   "execution_count": null,
   "id": "4fa9d9cb",
   "metadata": {},
   "outputs": [],
   "source": []
  }
 ],
 "metadata": {
  "kernelspec": {
   "display_name": "Python 3 (ipykernel)",
   "language": "python",
   "name": "python3"
  },
  "language_info": {
   "codemirror_mode": {
    "name": "ipython",
    "version": 3
   },
   "file_extension": ".py",
   "mimetype": "text/x-python",
   "name": "python",
   "nbconvert_exporter": "python",
   "pygments_lexer": "ipython3",
   "version": "3.9.13"
  }
 },
 "nbformat": 4,
 "nbformat_minor": 5
}
