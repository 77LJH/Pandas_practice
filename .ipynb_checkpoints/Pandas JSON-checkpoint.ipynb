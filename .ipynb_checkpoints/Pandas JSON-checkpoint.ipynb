{
 "cells": [
  {
   "cell_type": "markdown",
   "id": "9e79d155",
   "metadata": {},
   "source": [
    "JSON（JavaScript Object Notation，JavaScript 对象表示法），是存储和交换文本信息的语法，类似 XML。\n",
    "\n",
    "JSON 比 XML 更小、更快，更易解析，更多 JSON 内容可以参考 JSON 教程。\n",
    "\n",
    "Pandas 可以很方便的处理 JSON 数据，本文以 sites.json 为例，内容如下："
   ]
  },
  {
   "cell_type": "code",
   "execution_count": 1,
   "id": "f9402ed3",
   "metadata": {},
   "outputs": [
    {
     "name": "stdout",
     "output_type": "stream",
     "text": [
      "     id    name             url  likes\n",
      "0  A001    菜鸟教程  www.runoob.com     61\n",
      "1  A002  Google  www.google.com    124\n",
      "2  A003      淘宝  www.taobao.com     45\n"
     ]
    }
   ],
   "source": [
    "import pandas as pd\n",
    "\n",
    "df=pd.read_json(\"sites.json\")\n",
    "print(df.to_string())"
   ]
  },
  {
   "cell_type": "markdown",
   "id": "164c48cd",
   "metadata": {},
   "source": [
    "to_string() 用于返回 DataFrame 类型的数据，我们也可以直接处理 JSON 字符串。"
   ]
  },
  {
   "cell_type": "code",
   "execution_count": 2,
   "id": "936dbade",
   "metadata": {},
   "outputs": [
    {
     "name": "stdout",
     "output_type": "stream",
     "text": [
      "     id    name             url  likes\n",
      "0  A001    菜鸟教程  www.runoob.com     61\n",
      "1  A002  Google  www.google.com    124\n",
      "2  A003      淘宝  www.taobao.com     45\n"
     ]
    }
   ],
   "source": [
    "import pandas as pd\n",
    "\n",
    "data =[\n",
    "    {\n",
    "      \"id\": \"A001\",\n",
    "      \"name\": \"菜鸟教程\",\n",
    "      \"url\": \"www.runoob.com\",\n",
    "      \"likes\": 61\n",
    "    },\n",
    "    {\n",
    "      \"id\": \"A002\",\n",
    "      \"name\": \"Google\",\n",
    "      \"url\": \"www.google.com\",\n",
    "      \"likes\": 124\n",
    "    },\n",
    "    {\n",
    "      \"id\": \"A003\",\n",
    "      \"name\": \"淘宝\",\n",
    "      \"url\": \"www.taobao.com\",\n",
    "      \"likes\": 45\n",
    "    }\n",
    "]\n",
    "df = pd.DataFrame(data)\n",
    "\n",
    "print(df)"
   ]
  },
  {
   "cell_type": "markdown",
   "id": "c16a369f",
   "metadata": {},
   "source": [
    "JSON 对象与 Python 字典具有相同的格式，所以我们可以直接将 Python 字典转化为 DataFrame 数据："
   ]
  },
  {
   "cell_type": "code",
   "execution_count": 3,
   "id": "1254c20f",
   "metadata": {},
   "outputs": [
    {
     "name": "stdout",
     "output_type": "stream",
     "text": [
      "      col1 col2\n",
      "row1     1    x\n",
      "row2     2    y\n",
      "row3     3    z\n"
     ]
    }
   ],
   "source": [
    "# 字典格式的 JSON                                                                                              \n",
    "s = {\n",
    "    \"col1\":{\"row1\":1,\"row2\":2,\"row3\":3},\n",
    "    \"col2\":{\"row1\":\"x\",\"row2\":\"y\",\"row3\":\"z\"}\n",
    "}\n",
    "\n",
    "# 读取 JSON 转为 DataFrame                                                                                          \n",
    "df = pd.DataFrame(s)\n",
    "print(df)"
   ]
  },
  {
   "cell_type": "markdown",
   "id": "d234858b",
   "metadata": {},
   "source": [
    "从 URL 中读取 JSON 数据："
   ]
  },
  {
   "cell_type": "code",
   "execution_count": 4,
   "id": "71d021b5",
   "metadata": {},
   "outputs": [
    {
     "name": "stdout",
     "output_type": "stream",
     "text": [
      "     id    name             url  likes\n",
      "0  A001    菜鸟教程  www.runoob.com     61\n",
      "1  A002  Google  www.google.com    124\n",
      "2  A003      淘宝  www.taobao.com     45\n"
     ]
    }
   ],
   "source": [
    "import pandas as pd\n",
    "URL=\"https://static.runoob.com/download/sites.json\"\n",
    "df=pd.read_json(URL)\n",
    "print(df)"
   ]
  },
  {
   "cell_type": "markdown",
   "id": "111c4a8c",
   "metadata": {},
   "source": [
    "内嵌的 JSON 数据\n",
    "假设有一组内嵌的 JSON 数据文件 nested_list.json ："
   ]
  },
  {
   "cell_type": "code",
   "execution_count": 5,
   "id": "8862f054",
   "metadata": {},
   "outputs": [
    {
     "name": "stdout",
     "output_type": "stream",
     "text": [
      "          school_name   class                                           students\n",
      "0  ABC primary school  Year 1  {'id': 'A001', 'name': 'Tom', 'math': 60, 'phy...\n",
      "1  ABC primary school  Year 1  {'id': 'A002', 'name': 'James', 'math': 89, 'p...\n",
      "2  ABC primary school  Year 1  {'id': 'A003', 'name': 'Jenny', 'math': 79, 'p...\n"
     ]
    }
   ],
   "source": [
    "import pandas as pd\n",
    "df=pd.read_json(\"nested_list.json\")\n",
    "\n",
    "print(df)"
   ]
  },
  {
   "cell_type": "markdown",
   "id": "3eb9043e",
   "metadata": {},
   "source": [
    "这时我们就需要使用到 json_normalize() 方法将内嵌的数据完整的解析出来："
   ]
  },
  {
   "cell_type": "code",
   "execution_count": 7,
   "id": "abf5677d",
   "metadata": {},
   "outputs": [
    {
     "name": "stdout",
     "output_type": "stream",
     "text": [
      "     id   name  math  physics  chemistry\n",
      "0  A001    Tom    60       66         61\n",
      "1  A002  James    89       76         51\n",
      "2  A003  Jenny    79       90         78\n"
     ]
    }
   ],
   "source": [
    "import pandas as pd\n",
    "import json\n",
    "\n",
    "# 使用python json 模块载入数据\n",
    "with open(\"nested_list.json\",\"r\") as f:\n",
    "    data=json.loads(f.read())\n",
    "    \n",
    "# 展平数据\n",
    "df_nested_list=pd.json_normalize(data,record_path=[\"students\"])\n",
    "print(df_nested_list)"
   ]
  },
  {
   "cell_type": "markdown",
   "id": "fb5ac6c3",
   "metadata": {},
   "source": [
    "data = json.loads(f.read()) 使用 Python JSON 模块载入数据。\n",
    "\n",
    "json_normalize() 使用了参数 record_path 并设置为 ['students'] 用于展开内嵌的 JSON 数据 students。\n",
    "\n",
    "显示结果还没有包含 school_name 和 class 元素，如果需要展示出来可以使用 meta 参数来显示这些元数据："
   ]
  },
  {
   "cell_type": "code",
   "execution_count": 8,
   "id": "36b891c3",
   "metadata": {},
   "outputs": [
    {
     "name": "stdout",
     "output_type": "stream",
     "text": [
      "     id   name  math  physics  chemistry         school_name   class\n",
      "0  A001    Tom    60       66         61  ABC primary school  Year 1\n",
      "1  A002  James    89       76         51  ABC primary school  Year 1\n",
      "2  A003  Jenny    79       90         78  ABC primary school  Year 1\n"
     ]
    }
   ],
   "source": [
    "import pandas as pd\n",
    "import json\n",
    "# 使用 Python JSON 模块载入数据\n",
    "with open(\"nested_list.json\",\"r\") as f:\n",
    "    data=json.loads(f.read())\n",
    "\n",
    "# 展平数据\n",
    "df_nested_list=pd.json_normalize(\n",
    "data,\n",
    "record_path=[\"students\"],\n",
    "meta=[\"school_name\",\"class\"])\n",
    "print(df_nested_list)"
   ]
  },
  {
   "cell_type": "markdown",
   "id": "2579bdc2",
   "metadata": {},
   "source": [
    "nested_mix.json 文件转换为 DataFrame："
   ]
  },
  {
   "cell_type": "code",
   "execution_count": 10,
   "id": "6dd6f23f",
   "metadata": {},
   "outputs": [
    {
     "name": "stdout",
     "output_type": "stream",
     "text": [
      "     id   name  math  physics  chemistry   class info.president info.contacts.tel\n",
      "0  A001    Tom    60       66         61  Year 1    John Kasich         123456789\n",
      "1  A002  James    89       76         51  Year 1    John Kasich         123456789\n",
      "2  A003  Jenny    79       90         78  Year 1    John Kasich         123456789\n"
     ]
    }
   ],
   "source": [
    "import pandas as pd\n",
    "import json\n",
    "\n",
    "# 使用 Python JSON 模块载入数据\n",
    "with open(\"nested_mix.json\",\"r\") as f:\n",
    "    data=json.loads(f.read())\n",
    "\n",
    "df=pd.json_normalize(\n",
    "data,\n",
    "record_path=[\"students\"],\n",
    "meta=[\n",
    "    \"class\",\n",
    "    [\"info\",\"president\"],\n",
    "    [\"info\",\"contacts\",\"tel\"]\n",
    "])\n",
    "\n",
    "print(df)"
   ]
  },
  {
   "cell_type": "markdown",
   "id": "9a429ed9",
   "metadata": {},
   "source": [
    "读取内嵌数据中的一组数据\n",
    "以下是实例文件 nested_deep.json，我们只读取内嵌中的 math 字段：\n",
    "\n",
    "{\n",
    "    \"school_name\": \"local primary school\",\n",
    "    \"class\": \"Year 1\",\n",
    "    \"students\": [\n",
    "    {\n",
    "        \"id\": \"A001\",\n",
    "        \"name\": \"Tom\",\n",
    "        \"grade\": {\n",
    "            \"math\": 60,\n",
    "            \"physics\": 66,\n",
    "            \"chemistry\": 61\n",
    "        }\n",
    " \n",
    "    },\n",
    "    {\n",
    "        \"id\": \"A002\",\n",
    "        \"name\": \"James\",\n",
    "        \"grade\": {\n",
    "            \"math\": 89,\n",
    "            \"physics\": 76,\n",
    "            \"chemistry\": 51\n",
    "        }\n",
    "       \n",
    "    },\n",
    "    {\n",
    "        \"id\": \"A003\",\n",
    "        \"name\": \"Jenny\",\n",
    "        \"grade\": {\n",
    "            \"math\": 79,\n",
    "            \"physics\": 90,\n",
    "            \"chemistry\": 78\n",
    "        }\n",
    "    }]\n",
    "}"
   ]
  },
  {
   "cell_type": "markdown",
   "id": "d4753159",
   "metadata": {},
   "source": [
    "apply 是 pandas 库中的一个函数，它允许您沿着 DataFrame 的一个轴（默认为 0，即索引（行）轴）应用一个函数。您可以使用 apply 函数对 DataFrame 中的每一行或每一列应用一个函数，并返回一个新的 DataFrame 或 Series 对象，其中包含更改后的数据1。\n",
    "\n",
    "glom 是一个 Python 库，它提供了一个名为 glom.glom() 的核心函数，用于从给定的目标对象中根据规范访问或构造值。您可以使用 glom 函数来访问嵌套数据并构造新的嵌套结构2。"
   ]
  },
  {
   "cell_type": "code",
   "execution_count": 17,
   "id": "fa1fb5fb",
   "metadata": {},
   "outputs": [
    {
     "name": "stdout",
     "output_type": "stream",
     "text": [
      "0    60\n",
      "1    89\n",
      "2    79\n",
      "Name: students, dtype: int64\n"
     ]
    }
   ],
   "source": [
    "import pandas as pd\n",
    "from glom import glom\n",
    "\n",
    "df=pd.read_json(\"nested_deep.json\")\n",
    "\n",
    "data=df[\"students\"].apply(lambda row: glom(row,'grade.math'))\n",
    "\n",
    "print(data)\n"
   ]
  },
  {
   "cell_type": "code",
   "execution_count": null,
   "id": "20599113",
   "metadata": {},
   "outputs": [],
   "source": []
  }
 ],
 "metadata": {
  "kernelspec": {
   "display_name": "Python 3 (ipykernel)",
   "language": "python",
   "name": "python3"
  },
  "language_info": {
   "codemirror_mode": {
    "name": "ipython",
    "version": 3
   },
   "file_extension": ".py",
   "mimetype": "text/x-python",
   "name": "python",
   "nbconvert_exporter": "python",
   "pygments_lexer": "ipython3",
   "version": "3.9.13"
  }
 },
 "nbformat": 4,
 "nbformat_minor": 5
}
